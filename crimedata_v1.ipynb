{
 "cells": [
  {
   "cell_type": "code",
   "execution_count": 1,
   "metadata": {},
   "outputs": [],
   "source": [
    "import pandas as pd\n",
    "from sqlalchemy import create_engine\n",
    "import numpy as np "
   ]
  },
  {
   "cell_type": "code",
   "execution_count": 2,
   "metadata": {},
   "outputs": [
    {
     "data": {
      "text/html": [
       "<div>\n",
       "<style scoped>\n",
       "    .dataframe tbody tr th:only-of-type {\n",
       "        vertical-align: middle;\n",
       "    }\n",
       "\n",
       "    .dataframe tbody tr th {\n",
       "        vertical-align: top;\n",
       "    }\n",
       "\n",
       "    .dataframe thead th {\n",
       "        text-align: right;\n",
       "    }\n",
       "</style>\n",
       "<table border=\"1\" class=\"dataframe\">\n",
       "  <thead>\n",
       "    <tr style=\"text-align: right;\">\n",
       "      <th></th>\n",
       "      <th>CrimeDate</th>\n",
       "      <th>CrimeTime</th>\n",
       "      <th>CrimeCode</th>\n",
       "      <th>Location</th>\n",
       "      <th>Description</th>\n",
       "      <th>Inside/Outside</th>\n",
       "      <th>Weapon</th>\n",
       "      <th>Post</th>\n",
       "      <th>District</th>\n",
       "      <th>Neighborhood</th>\n",
       "      <th>Longitude</th>\n",
       "      <th>Latitude</th>\n",
       "      <th>Location 1</th>\n",
       "      <th>Premise</th>\n",
       "      <th>vri_name1</th>\n",
       "      <th>Total Incidents</th>\n",
       "    </tr>\n",
       "  </thead>\n",
       "  <tbody>\n",
       "    <tr>\n",
       "      <th>0</th>\n",
       "      <td>11/14/2020</td>\n",
       "      <td>08:50:00</td>\n",
       "      <td>9S</td>\n",
       "      <td>1600 FREDERICK AV</td>\n",
       "      <td>SHOOTING</td>\n",
       "      <td>Outside</td>\n",
       "      <td>FIREARM</td>\n",
       "      <td>711.0</td>\n",
       "      <td>WESTERN</td>\n",
       "      <td>FRANKLIN SQUARE</td>\n",
       "      <td>-76.642470</td>\n",
       "      <td>39.288348</td>\n",
       "      <td>NaN</td>\n",
       "      <td>STREET</td>\n",
       "      <td>Tri-District</td>\n",
       "      <td>1</td>\n",
       "    </tr>\n",
       "    <tr>\n",
       "      <th>1</th>\n",
       "      <td>11/14/2020</td>\n",
       "      <td>21:20:00</td>\n",
       "      <td>6C</td>\n",
       "      <td>500 W MULBERRY ST</td>\n",
       "      <td>LARCENY</td>\n",
       "      <td>O</td>\n",
       "      <td>NaN</td>\n",
       "      <td>121.0</td>\n",
       "      <td>CENTRAL</td>\n",
       "      <td>SETON HILL</td>\n",
       "      <td>-76.623351</td>\n",
       "      <td>39.293710</td>\n",
       "      <td>NaN</td>\n",
       "      <td>GAS STATION</td>\n",
       "      <td>NaN</td>\n",
       "      <td>1</td>\n",
       "    </tr>\n",
       "    <tr>\n",
       "      <th>2</th>\n",
       "      <td>11/14/2020</td>\n",
       "      <td>16:20:00</td>\n",
       "      <td>6C</td>\n",
       "      <td>3200 GREENMOUNT AVE</td>\n",
       "      <td>LARCENY</td>\n",
       "      <td>I</td>\n",
       "      <td>NaN</td>\n",
       "      <td>513.0</td>\n",
       "      <td>NORTHERN</td>\n",
       "      <td>ABELL</td>\n",
       "      <td>-76.609485</td>\n",
       "      <td>39.328073</td>\n",
       "      <td>NaN</td>\n",
       "      <td>RETAIL/SMALL BUSINES</td>\n",
       "      <td>NaN</td>\n",
       "      <td>1</td>\n",
       "    </tr>\n",
       "    <tr>\n",
       "      <th>3</th>\n",
       "      <td>11/14/2020</td>\n",
       "      <td>12:41:00</td>\n",
       "      <td>6C</td>\n",
       "      <td>3700 FALLS RD</td>\n",
       "      <td>LARCENY</td>\n",
       "      <td>I</td>\n",
       "      <td>NaN</td>\n",
       "      <td>531.0</td>\n",
       "      <td>NORTHERN</td>\n",
       "      <td>HAMPDEN</td>\n",
       "      <td>-76.635526</td>\n",
       "      <td>39.332721</td>\n",
       "      <td>NaN</td>\n",
       "      <td>DRUG STORE / MED  BL</td>\n",
       "      <td>NaN</td>\n",
       "      <td>1</td>\n",
       "    </tr>\n",
       "    <tr>\n",
       "      <th>4</th>\n",
       "      <td>11/14/2020</td>\n",
       "      <td>14:19:00</td>\n",
       "      <td>4E</td>\n",
       "      <td>BALTIMORE ST &amp; N WASHINGTON ST</td>\n",
       "      <td>COMMON ASSAULT</td>\n",
       "      <td>O</td>\n",
       "      <td>NaN</td>\n",
       "      <td>212.0</td>\n",
       "      <td>SOUTHEAST</td>\n",
       "      <td>BUTCHER'S HILL</td>\n",
       "      <td>-76.589158</td>\n",
       "      <td>39.291705</td>\n",
       "      <td>NaN</td>\n",
       "      <td>STREET</td>\n",
       "      <td>NaN</td>\n",
       "      <td>1</td>\n",
       "    </tr>\n",
       "  </tbody>\n",
       "</table>\n",
       "</div>"
      ],
      "text/plain": [
       "    CrimeDate CrimeTime CrimeCode                        Location  \\\n",
       "0  11/14/2020  08:50:00        9S               1600 FREDERICK AV   \n",
       "1  11/14/2020  21:20:00        6C               500 W MULBERRY ST   \n",
       "2  11/14/2020  16:20:00        6C             3200 GREENMOUNT AVE   \n",
       "3  11/14/2020  12:41:00        6C                   3700 FALLS RD   \n",
       "4  11/14/2020  14:19:00        4E  BALTIMORE ST & N WASHINGTON ST   \n",
       "\n",
       "      Description Inside/Outside   Weapon   Post   District     Neighborhood  \\\n",
       "0        SHOOTING        Outside  FIREARM  711.0    WESTERN  FRANKLIN SQUARE   \n",
       "1         LARCENY              O      NaN  121.0    CENTRAL       SETON HILL   \n",
       "2         LARCENY              I      NaN  513.0   NORTHERN            ABELL   \n",
       "3         LARCENY              I      NaN  531.0   NORTHERN          HAMPDEN   \n",
       "4  COMMON ASSAULT              O      NaN  212.0  SOUTHEAST   BUTCHER'S HILL   \n",
       "\n",
       "   Longitude   Latitude  Location 1               Premise     vri_name1  \\\n",
       "0 -76.642470  39.288348         NaN                STREET  Tri-District   \n",
       "1 -76.623351  39.293710         NaN           GAS STATION           NaN   \n",
       "2 -76.609485  39.328073         NaN  RETAIL/SMALL BUSINES           NaN   \n",
       "3 -76.635526  39.332721         NaN  DRUG STORE / MED  BL           NaN   \n",
       "4 -76.589158  39.291705         NaN                STREET           NaN   \n",
       "\n",
       "   Total Incidents  \n",
       "0                1  \n",
       "1                1  \n",
       "2                1  \n",
       "3                1  \n",
       "4                1  "
      ]
     },
     "execution_count": 2,
     "metadata": {},
     "output_type": "execute_result"
    }
   ],
   "source": [
    "#Loading csv containing all total number of votes form every state of the 2020 election data \n",
    "csv_file = \"BPD_Part_1_Victim_Based_Crime_Data.csv\"\n",
    "crimedata = pd.read_csv(csv_file, encoding='ISO-8859-1')\n",
    "crimedata.head()"
   ]
  },
  {
   "cell_type": "code",
   "execution_count": 11,
   "metadata": {},
   "outputs": [
    {
     "data": {
      "text/html": [
       "<div>\n",
       "<style scoped>\n",
       "    .dataframe tbody tr th:only-of-type {\n",
       "        vertical-align: middle;\n",
       "    }\n",
       "\n",
       "    .dataframe tbody tr th {\n",
       "        vertical-align: top;\n",
       "    }\n",
       "\n",
       "    .dataframe thead th {\n",
       "        text-align: right;\n",
       "    }\n",
       "</style>\n",
       "<table border=\"1\" class=\"dataframe\">\n",
       "  <thead>\n",
       "    <tr style=\"text-align: right;\">\n",
       "      <th></th>\n",
       "      <th>Longitude</th>\n",
       "      <th>Latitude</th>\n",
       "      <th>Description</th>\n",
       "    </tr>\n",
       "  </thead>\n",
       "  <tbody>\n",
       "    <tr>\n",
       "      <th>0</th>\n",
       "      <td>-76.642470</td>\n",
       "      <td>39.288348</td>\n",
       "      <td>SHOOTING</td>\n",
       "    </tr>\n",
       "    <tr>\n",
       "      <th>1</th>\n",
       "      <td>-76.623351</td>\n",
       "      <td>39.293710</td>\n",
       "      <td>LARCENY</td>\n",
       "    </tr>\n",
       "    <tr>\n",
       "      <th>2</th>\n",
       "      <td>-76.609485</td>\n",
       "      <td>39.328073</td>\n",
       "      <td>LARCENY</td>\n",
       "    </tr>\n",
       "    <tr>\n",
       "      <th>3</th>\n",
       "      <td>-76.635526</td>\n",
       "      <td>39.332721</td>\n",
       "      <td>LARCENY</td>\n",
       "    </tr>\n",
       "    <tr>\n",
       "      <th>4</th>\n",
       "      <td>-76.589158</td>\n",
       "      <td>39.291705</td>\n",
       "      <td>COMMON ASSAULT</td>\n",
       "    </tr>\n",
       "    <tr>\n",
       "      <th>...</th>\n",
       "      <td>...</td>\n",
       "      <td>...</td>\n",
       "      <td>...</td>\n",
       "    </tr>\n",
       "    <tr>\n",
       "      <th>320759</th>\n",
       "      <td>-76.626880</td>\n",
       "      <td>39.328817</td>\n",
       "      <td>RAPE</td>\n",
       "    </tr>\n",
       "    <tr>\n",
       "      <th>320760</th>\n",
       "      <td>-76.691297</td>\n",
       "      <td>39.289582</td>\n",
       "      <td>RAPE</td>\n",
       "    </tr>\n",
       "    <tr>\n",
       "      <th>320761</th>\n",
       "      <td>-76.687168</td>\n",
       "      <td>39.326183</td>\n",
       "      <td>RAPE</td>\n",
       "    </tr>\n",
       "    <tr>\n",
       "      <th>320762</th>\n",
       "      <td>-76.635300</td>\n",
       "      <td>39.358898</td>\n",
       "      <td>RAPE</td>\n",
       "    </tr>\n",
       "    <tr>\n",
       "      <th>320763</th>\n",
       "      <td>-76.702636</td>\n",
       "      <td>39.326875</td>\n",
       "      <td>RAPE</td>\n",
       "    </tr>\n",
       "  </tbody>\n",
       "</table>\n",
       "<p>320764 rows × 3 columns</p>\n",
       "</div>"
      ],
      "text/plain": [
       "        Longitude   Latitude     Description\n",
       "0      -76.642470  39.288348        SHOOTING\n",
       "1      -76.623351  39.293710         LARCENY\n",
       "2      -76.609485  39.328073         LARCENY\n",
       "3      -76.635526  39.332721         LARCENY\n",
       "4      -76.589158  39.291705  COMMON ASSAULT\n",
       "...           ...        ...             ...\n",
       "320759 -76.626880  39.328817            RAPE\n",
       "320760 -76.691297  39.289582            RAPE\n",
       "320761 -76.687168  39.326183            RAPE\n",
       "320762 -76.635300  39.358898            RAPE\n",
       "320763 -76.702636  39.326875            RAPE\n",
       "\n",
       "[320764 rows x 3 columns]"
      ]
     },
     "execution_count": 11,
     "metadata": {},
     "output_type": "execute_result"
    }
   ],
   "source": [
    "crimedata"
   ]
  },
  {
   "cell_type": "code",
   "execution_count": 12,
   "metadata": {},
   "outputs": [
    {
     "data": {
      "text/plain": [
       "LARCENY                 71332\n",
       "COMMON ASSAULT          53921\n",
       "BURGLARY                45407\n",
       "LARCENY FROM AUTO       41673\n",
       "AGG. ASSAULT            36010\n",
       "AUTO THEFT              28064\n",
       "ROBBERY - STREET        22304\n",
       "ROBBERY - COMMERCIAL     5616\n",
       "SHOOTING                 4459\n",
       "ROBBERY - RESIDENCE      3375\n",
       "ROBBERY - CARJACKING     2935\n",
       "HOMICIDE                 2161\n",
       "RAPE                     2141\n",
       "ARSON                    1366\n",
       "Name: Description, dtype: int64"
      ]
     },
     "execution_count": 12,
     "metadata": {},
     "output_type": "execute_result"
    }
   ],
   "source": [
    "crimedata['Description'].value_counts()"
   ]
  },
  {
   "cell_type": "code",
   "execution_count": 13,
   "metadata": {},
   "outputs": [],
   "source": [
    "crimedata_cleaned = crimedata.replace({ 'LARCENY FROM AUTO ':'LARCENY', 'ROBBERY - STREET':'ROBBERY' , 'ROBBERY - COMMERCIAL':'ROBBERY' , 'ROBBERY - RESIDENCE':'ROBBERY', 'ROBBERY - CARJACKING': 'ROBBERY'\n",
    "}) "
   ]
  },
  {
   "cell_type": "code",
   "execution_count": 14,
   "metadata": {},
   "outputs": [
    {
     "data": {
      "text/plain": [
       "LARCENY              71332\n",
       "COMMON ASSAULT       53921\n",
       "BURGLARY             45407\n",
       "LARCENY FROM AUTO    41673\n",
       "AGG. ASSAULT         36010\n",
       "ROBBERY              34230\n",
       "AUTO THEFT           28064\n",
       "SHOOTING              4459\n",
       "HOMICIDE              2161\n",
       "RAPE                  2141\n",
       "ARSON                 1366\n",
       "Name: Description, dtype: int64"
      ]
     },
     "execution_count": 14,
     "metadata": {},
     "output_type": "execute_result"
    }
   ],
   "source": [
    "crimedata_cleaned['Description'].value_counts()"
   ]
  },
  {
   "cell_type": "code",
   "execution_count": 15,
   "metadata": {},
   "outputs": [],
   "source": [
    "crimedata_cleaned = crimedata_cleaned.replace({ 'LARCENY FROM AUTO':'LARCENY'}) "
   ]
  },
  {
   "cell_type": "code",
   "execution_count": 16,
   "metadata": {},
   "outputs": [
    {
     "data": {
      "text/plain": [
       "LARCENY           113005\n",
       "COMMON ASSAULT     53921\n",
       "BURGLARY           45407\n",
       "AGG. ASSAULT       36010\n",
       "ROBBERY            34230\n",
       "AUTO THEFT         28064\n",
       "SHOOTING            4459\n",
       "HOMICIDE            2161\n",
       "RAPE                2141\n",
       "ARSON               1366\n",
       "Name: Description, dtype: int64"
      ]
     },
     "execution_count": 16,
     "metadata": {},
     "output_type": "execute_result"
    }
   ],
   "source": [
    "crimedata_cleaned['Description'].value_counts()"
   ]
  },
  {
   "cell_type": "code",
   "execution_count": 17,
   "metadata": {},
   "outputs": [],
   "source": [
    "crimedata_cleaned['id'] = crimedata_cleaned.index"
   ]
  },
  {
   "cell_type": "code",
   "execution_count": 18,
   "metadata": {},
   "outputs": [],
   "source": [
    "crimedata_cleaned.set_index('id', inplace = True)"
   ]
  },
  {
   "cell_type": "code",
   "execution_count": 19,
   "metadata": {},
   "outputs": [
    {
     "data": {
      "text/html": [
       "<div>\n",
       "<style scoped>\n",
       "    .dataframe tbody tr th:only-of-type {\n",
       "        vertical-align: middle;\n",
       "    }\n",
       "\n",
       "    .dataframe tbody tr th {\n",
       "        vertical-align: top;\n",
       "    }\n",
       "\n",
       "    .dataframe thead th {\n",
       "        text-align: right;\n",
       "    }\n",
       "</style>\n",
       "<table border=\"1\" class=\"dataframe\">\n",
       "  <thead>\n",
       "    <tr style=\"text-align: right;\">\n",
       "      <th></th>\n",
       "      <th>Longitude</th>\n",
       "      <th>Latitude</th>\n",
       "      <th>Description</th>\n",
       "    </tr>\n",
       "    <tr>\n",
       "      <th>id</th>\n",
       "      <th></th>\n",
       "      <th></th>\n",
       "      <th></th>\n",
       "    </tr>\n",
       "  </thead>\n",
       "  <tbody>\n",
       "    <tr>\n",
       "      <th>0</th>\n",
       "      <td>-76.642470</td>\n",
       "      <td>39.288348</td>\n",
       "      <td>SHOOTING</td>\n",
       "    </tr>\n",
       "    <tr>\n",
       "      <th>1</th>\n",
       "      <td>-76.623351</td>\n",
       "      <td>39.293710</td>\n",
       "      <td>LARCENY</td>\n",
       "    </tr>\n",
       "    <tr>\n",
       "      <th>2</th>\n",
       "      <td>-76.609485</td>\n",
       "      <td>39.328073</td>\n",
       "      <td>LARCENY</td>\n",
       "    </tr>\n",
       "    <tr>\n",
       "      <th>3</th>\n",
       "      <td>-76.635526</td>\n",
       "      <td>39.332721</td>\n",
       "      <td>LARCENY</td>\n",
       "    </tr>\n",
       "    <tr>\n",
       "      <th>4</th>\n",
       "      <td>-76.589158</td>\n",
       "      <td>39.291705</td>\n",
       "      <td>COMMON ASSAULT</td>\n",
       "    </tr>\n",
       "    <tr>\n",
       "      <th>...</th>\n",
       "      <td>...</td>\n",
       "      <td>...</td>\n",
       "      <td>...</td>\n",
       "    </tr>\n",
       "    <tr>\n",
       "      <th>320759</th>\n",
       "      <td>-76.626880</td>\n",
       "      <td>39.328817</td>\n",
       "      <td>RAPE</td>\n",
       "    </tr>\n",
       "    <tr>\n",
       "      <th>320760</th>\n",
       "      <td>-76.691297</td>\n",
       "      <td>39.289582</td>\n",
       "      <td>RAPE</td>\n",
       "    </tr>\n",
       "    <tr>\n",
       "      <th>320761</th>\n",
       "      <td>-76.687168</td>\n",
       "      <td>39.326183</td>\n",
       "      <td>RAPE</td>\n",
       "    </tr>\n",
       "    <tr>\n",
       "      <th>320762</th>\n",
       "      <td>-76.635300</td>\n",
       "      <td>39.358898</td>\n",
       "      <td>RAPE</td>\n",
       "    </tr>\n",
       "    <tr>\n",
       "      <th>320763</th>\n",
       "      <td>-76.702636</td>\n",
       "      <td>39.326875</td>\n",
       "      <td>RAPE</td>\n",
       "    </tr>\n",
       "  </tbody>\n",
       "</table>\n",
       "<p>320764 rows × 3 columns</p>\n",
       "</div>"
      ],
      "text/plain": [
       "        Longitude   Latitude     Description\n",
       "id                                          \n",
       "0      -76.642470  39.288348        SHOOTING\n",
       "1      -76.623351  39.293710         LARCENY\n",
       "2      -76.609485  39.328073         LARCENY\n",
       "3      -76.635526  39.332721         LARCENY\n",
       "4      -76.589158  39.291705  COMMON ASSAULT\n",
       "...           ...        ...             ...\n",
       "320759 -76.626880  39.328817            RAPE\n",
       "320760 -76.691297  39.289582            RAPE\n",
       "320761 -76.687168  39.326183            RAPE\n",
       "320762 -76.635300  39.358898            RAPE\n",
       "320763 -76.702636  39.326875            RAPE\n",
       "\n",
       "[320764 rows x 3 columns]"
      ]
     },
     "execution_count": 19,
     "metadata": {},
     "output_type": "execute_result"
    }
   ],
   "source": [
    "crimedata_cleaned"
   ]
  },
  {
   "cell_type": "code",
   "execution_count": null,
   "metadata": {},
   "outputs": [],
   "source": [
    "rds_connection_string = \"postgres:Blue14horse@localhost:5432/election2020\"\n",
    "engine = create_engine(f'postgresql://{rds_connection_string}')"
   ]
  },
  {
   "cell_type": "code",
   "execution_count": null,
   "metadata": {},
   "outputs": [],
   "source": [
    "conn = engine.connect()"
   ]
  },
  {
   "cell_type": "code",
   "execution_count": null,
   "metadata": {},
   "outputs": [],
   "source": [
    "engine.table_names()"
   ]
  },
  {
   "cell_type": "code",
   "execution_count": null,
   "metadata": {},
   "outputs": [],
   "source": [
    "crimedata_cleaned.to_sql(name = 'crime_data', con = engine, if_exists = 'append', index = True)"
   ]
  },
  {
   "cell_type": "code",
   "execution_count": null,
   "metadata": {},
   "outputs": [],
   "source": [
    "crimedata_final = pd.read_sql('select * from crime_data' ,conn)"
   ]
  },
  {
   "cell_type": "code",
   "execution_count": null,
   "metadata": {},
   "outputs": [],
   "source": [
    "# Export file as a CSV, without the Pandas index, but with the header\n",
    "crimedata_final .to_csv(\"crimedata_final.csv\", index=False, header=True)"
   ]
  }
 ],
 "metadata": {
  "kernelspec": {
   "display_name": "Python 3",
   "language": "python",
   "name": "python3"
  },
  "language_info": {
   "codemirror_mode": {
    "name": "ipython",
    "version": 3
   },
   "file_extension": ".py",
   "mimetype": "text/x-python",
   "name": "python",
   "nbconvert_exporter": "python",
   "pygments_lexer": "ipython3",
   "version": "3.7.6"
  }
 },
 "nbformat": 4,
 "nbformat_minor": 4
}
